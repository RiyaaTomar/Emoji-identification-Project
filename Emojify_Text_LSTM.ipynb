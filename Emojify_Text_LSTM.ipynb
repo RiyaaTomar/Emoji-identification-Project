{
 "cells": [
  {
   "cell_type": "code",
   "execution_count": 169,
   "id": "confidential-intermediate",
   "metadata": {},
   "outputs": [],
   "source": [
    "import numpy as np\n",
    "import pandas as pd\n",
    "import emoji\n",
    "import tensorflow as tf\n",
    "from keras.models import Sequential\n",
    "from keras.layers import Dense, LSTM, Embedding\n",
    "\n",
    "from keras.preprocessing.text import Tokenizer\n",
    "from keras.preprocessing.sequence import pad_sequences\n",
    "from keras.utils import to_categorical\n",
    "\n",
    "tf.compat.v1.data.Iterator\n",
    "tf.compat.v1.disable_eager_execution()\n",
    "from keras.layers import Bidirectional, GRU, Dropout"
   ]
  },
  {
   "cell_type": "code",
   "execution_count": 170,
   "id": "future-seeking",
   "metadata": {},
   "outputs": [
    {
     "data": {
      "text/html": [
       "<div>\n",
       "<style scoped>\n",
       "    .dataframe tbody tr th:only-of-type {\n",
       "        vertical-align: middle;\n",
       "    }\n",
       "\n",
       "    .dataframe tbody tr th {\n",
       "        vertical-align: top;\n",
       "    }\n",
       "\n",
       "    .dataframe thead th {\n",
       "        text-align: right;\n",
       "    }\n",
       "</style>\n",
       "<table border=\"1\" class=\"dataframe\">\n",
       "  <thead>\n",
       "    <tr style=\"text-align: right;\">\n",
       "      <th></th>\n",
       "      <th>0</th>\n",
       "      <th>1</th>\n",
       "    </tr>\n",
       "  </thead>\n",
       "  <tbody>\n",
       "    <tr>\n",
       "      <th>0</th>\n",
       "      <td>French macaroon is so tasty</td>\n",
       "      <td>4</td>\n",
       "    </tr>\n",
       "    <tr>\n",
       "      <th>1</th>\n",
       "      <td>work is horrible</td>\n",
       "      <td>3</td>\n",
       "    </tr>\n",
       "    <tr>\n",
       "      <th>2</th>\n",
       "      <td>I am upset</td>\n",
       "      <td>3</td>\n",
       "    </tr>\n",
       "    <tr>\n",
       "      <th>3</th>\n",
       "      <td>throw the ball</td>\n",
       "      <td>1</td>\n",
       "    </tr>\n",
       "    <tr>\n",
       "      <th>4</th>\n",
       "      <td>Good joke</td>\n",
       "      <td>2</td>\n",
       "    </tr>\n",
       "  </tbody>\n",
       "</table>\n",
       "</div>"
      ],
      "text/plain": [
       "                             0   1\n",
       "0  French macaroon is so tasty   4\n",
       "1             work is horrible   3\n",
       "2                   I am upset  3 \n",
       "3               throw the ball  1 \n",
       "4                    Good joke   2"
      ]
     },
     "execution_count": 170,
     "metadata": {},
     "output_type": "execute_result"
    }
   ],
   "source": [
    "data = pd.read_csv('emoji_data.csv', header = None)\n",
    "data.head()"
   ]
  },
  {
   "cell_type": "code",
   "execution_count": 171,
   "id": "hollywood-simulation",
   "metadata": {},
   "outputs": [],
   "source": [
    "emoji_dict = {\n",
    "    0: \":red_heart:\",\n",
    "    1: \":baseball:\",\n",
    "    2: \":grinning_face_with_big_eyes:\",\n",
    "    3: \":disappointed_face:\",\n",
    "    4: \":fork_and_knife_with_plate:\"\n",
    "}\n",
    "\n",
    "def label_to_emoji(label):\n",
    "    return emoji.emojize(emoji_dict[label])"
   ]
  },
  {
   "cell_type": "code",
   "execution_count": 172,
   "id": "indoor-recipient",
   "metadata": {},
   "outputs": [],
   "source": [
    "X = data[0].values\n",
    "Y = data[1].values\n",
    "Y = [int(value) if str(value).isdigit() else 0 for value in Y]"
   ]
  },
  {
   "cell_type": "markdown",
   "id": "concerned-oxide",
   "metadata": {},
   "source": [
    "# Embeddings"
   ]
  },
  {
   "cell_type": "code",
   "execution_count": 173,
   "id": "buried-opposition",
   "metadata": {},
   "outputs": [],
   "source": [
    "file = open('glove.6B.300d.txt', 'r', encoding = 'utf8')\n",
    "content = file.readlines()\n",
    "file.close()"
   ]
  },
  {
   "cell_type": "code",
   "execution_count": 174,
   "id": "based-response",
   "metadata": {},
   "outputs": [],
   "source": [
    "embeddings = {}\n",
    "\n",
    "for line in content:\n",
    "    line = line.split()\n",
    "    embeddings[line[0]] = np.array(line[1:], dtype = float)"
   ]
  },
  {
   "cell_type": "code",
   "execution_count": 176,
   "id": "coordinate-color",
   "metadata": {},
   "outputs": [
    {
     "name": "stdout",
     "output_type": "stream",
     "text": [
      "52\n"
     ]
    }
   ],
   "source": [
    "def get_maxlen(data):\n",
    "    maxlen = 0\n",
    "    for sent in data:\n",
    "        maxlen = max(maxlen, len(sent))\n",
    "    return maxlen\n",
    "\n",
    "maxlen = get_maxlen(X)\n",
    "print(maxlen)"
   ]
  },
  {
   "cell_type": "code",
   "execution_count": 177,
   "id": "manual-maryland",
   "metadata": {},
   "outputs": [],
   "source": [
    "tokenizer = Tokenizer()  \n",
    "tokenizer.fit_on_texts(X)\n",
    "word2index = tokenizer.word_index"
   ]
  },
  {
   "cell_type": "code",
   "execution_count": 178,
   "id": "recovered-fortune",
   "metadata": {},
   "outputs": [],
   "source": [
    "Xtokens = tokenizer.texts_to_sequences(X)\n",
    "Xtrain = pad_sequences(Xtokens, maxlen = maxlen,  padding = 'post', truncating = 'post')"
   ]
  },
  {
   "cell_type": "code",
   "execution_count": 179,
   "id": "polyphonic-cannon",
   "metadata": {},
   "outputs": [],
   "source": [
    "Ytrain = to_categorical(Y,num_classes=len(emoji_dict))"
   ]
  },
  {
   "cell_type": "markdown",
   "id": "greatest-violin",
   "metadata": {},
   "source": [
    "# Model"
   ]
  },
  {
   "cell_type": "code",
   "execution_count": 180,
   "id": "intended-rapid",
   "metadata": {},
   "outputs": [],
   "source": [
    "embed_size = 300\n",
    "embedding_matrix = np.random.rand(len(word2index) + 1, embed_size)\n",
    "\n",
    "for word, i in word2index.items():\n",
    "    if word in embeddings:\n",
    "        embed_vector = embeddings[word]\n",
    "        embedding_matrix[i] = embed_vector"
   ]
  },
  {
   "cell_type": "code",
   "execution_count": 181,
   "id": "weighted-relationship",
   "metadata": {},
   "outputs": [
    {
     "data": {
      "text/plain": [
       "array([[ 0.09329788,  0.65691931,  0.42331902, ...,  0.6594547 ,\n",
       "         0.14247782,  0.43261318],\n",
       "       [-0.13292   ,  0.16985   , -0.1436    , ..., -0.23778   ,\n",
       "         0.14766   ,  0.62902   ],\n",
       "       [-0.28427   ,  0.047977  , -0.15062   , ..., -0.090071  ,\n",
       "         0.016922  ,  0.29278   ],\n",
       "       ...,\n",
       "       [-0.5211    ,  0.65123   , -0.30188   , ..., -0.23667   ,\n",
       "        -0.36634   ,  0.16132   ],\n",
       "       [-0.14154   ,  0.027303  ,  0.13594   , ..., -0.40974   ,\n",
       "         0.12668   ,  0.11425   ],\n",
       "       [-0.41355   ,  0.076012  ,  0.099178  , ...,  0.15953   ,\n",
       "        -0.13223   ,  0.03091   ]])"
      ]
     },
     "execution_count": 181,
     "metadata": {},
     "output_type": "execute_result"
    }
   ],
   "source": [
    "embedding_matrix"
   ]
  },
  {
   "cell_type": "code",
   "execution_count": 182,
   "id": "homeless-single",
   "metadata": {},
   "outputs": [],
   "source": [
    "model = Sequential([\n",
    "    Embedding(input_dim=len(word2index) + 1,\n",
    "              output_dim=embed_size,\n",
    "              input_length=maxlen,\n",
    "              weights=[embedding_matrix],\n",
    "              trainable=False\n",
    "              ),\n",
    "    \n",
    "    Bidirectional(GRU(units=64, return_sequences=True)),\n",
    "    Dropout(0.5),\n",
    "    Bidirectional(GRU(units=32)),\n",
    "    Dropout(0.5),\n",
    "    Dense(len(emoji_dict), activation='softmax')\n",
    "])\n",
    "\n",
    "model.compile(optimizer='adam', loss='categorical_crossentropy', metrics=['accuracy'])\n"
   ]
  },
  {
   "cell_type": "code",
   "execution_count": 183,
   "id": "technical-possible",
   "metadata": {},
   "outputs": [
    {
     "name": "stdout",
     "output_type": "stream",
     "text": [
      "Train on 183 samples\n",
      "Epoch 1/100\n",
      "183/183 [==============================] - 4s 24ms/sample - loss: 1.6992 - accuracy: 0.2514\n",
      "Epoch 2/100\n",
      "183/183 [==============================] - 1s 7ms/sample - loss: 1.5898 - accuracy: 0.2951\n",
      "Epoch 3/100\n",
      "183/183 [==============================] - 1s 6ms/sample - loss: 1.5993 - accuracy: 0.2896\n",
      "Epoch 4/100\n",
      "183/183 [==============================] - 1s 7ms/sample - loss: 1.4855 - accuracy: 0.3716\n",
      "Epoch 5/100\n",
      "183/183 [==============================] - 1s 6ms/sample - loss: 1.4476 - accuracy: 0.3880\n",
      "Epoch 6/100\n",
      "183/183 [==============================] - 1s 6ms/sample - loss: 1.3968 - accuracy: 0.4098\n",
      "Epoch 7/100\n",
      "183/183 [==============================] - 1s 7ms/sample - loss: 1.4139 - accuracy: 0.4044\n",
      "Epoch 8/100\n",
      "183/183 [==============================] - 1s 7ms/sample - loss: 1.2905 - accuracy: 0.4754\n",
      "Epoch 9/100\n",
      "183/183 [==============================] - 1s 6ms/sample - loss: 1.2880 - accuracy: 0.4645\n",
      "Epoch 10/100\n",
      "183/183 [==============================] - 1s 6ms/sample - loss: 1.1937 - accuracy: 0.5082\n",
      "Epoch 11/100\n",
      "183/183 [==============================] - 1s 6ms/sample - loss: 1.1663 - accuracy: 0.5301\n",
      "Epoch 12/100\n",
      "183/183 [==============================] - 1s 7ms/sample - loss: 1.0086 - accuracy: 0.6448\n",
      "Epoch 13/100\n",
      "183/183 [==============================] - 1s 6ms/sample - loss: 0.9893 - accuracy: 0.6448\n",
      "Epoch 14/100\n",
      "183/183 [==============================] - 1s 6ms/sample - loss: 0.9005 - accuracy: 0.7049\n",
      "Epoch 15/100\n",
      "183/183 [==============================] - 1s 6ms/sample - loss: 0.8449 - accuracy: 0.6995\n",
      "Epoch 16/100\n",
      "183/183 [==============================] - 1s 7ms/sample - loss: 0.7951 - accuracy: 0.7213\n",
      "Epoch 17/100\n",
      "183/183 [==============================] - 1s 8ms/sample - loss: 0.7086 - accuracy: 0.7923\n",
      "Epoch 18/100\n",
      "183/183 [==============================] - 1s 7ms/sample - loss: 0.6339 - accuracy: 0.8142\n",
      "Epoch 19/100\n",
      "183/183 [==============================] - 1s 7ms/sample - loss: 0.5622 - accuracy: 0.8415\n",
      "Epoch 20/100\n",
      "183/183 [==============================] - 1s 6ms/sample - loss: 0.4987 - accuracy: 0.8361\n",
      "Epoch 21/100\n",
      "183/183 [==============================] - 1s 7ms/sample - loss: 0.4746 - accuracy: 0.8689\n",
      "Epoch 22/100\n",
      "183/183 [==============================] - 1s 6ms/sample - loss: 0.3775 - accuracy: 0.9016\n",
      "Epoch 23/100\n",
      "183/183 [==============================] - 1s 6ms/sample - loss: 0.4056 - accuracy: 0.8743\n",
      "Epoch 24/100\n",
      "183/183 [==============================] - 1s 6ms/sample - loss: 0.3264 - accuracy: 0.9235\n",
      "Epoch 25/100\n",
      "183/183 [==============================] - 1s 6ms/sample - loss: 0.2958 - accuracy: 0.9399\n",
      "Epoch 26/100\n",
      "183/183 [==============================] - 1s 6ms/sample - loss: 0.2573 - accuracy: 0.9508\n",
      "Epoch 27/100\n",
      "183/183 [==============================] - 1s 6ms/sample - loss: 0.2284 - accuracy: 0.9563\n",
      "Epoch 28/100\n",
      "183/183 [==============================] - 1s 6ms/sample - loss: 0.1764 - accuracy: 0.9563\n",
      "Epoch 29/100\n",
      "183/183 [==============================] - 1s 5ms/sample - loss: 0.1966 - accuracy: 0.9508\n",
      "Epoch 30/100\n",
      "183/183 [==============================] - 1s 6ms/sample - loss: 0.1955 - accuracy: 0.9617\n",
      "Epoch 31/100\n",
      "183/183 [==============================] - 1s 6ms/sample - loss: 0.1582 - accuracy: 0.9672\n",
      "Epoch 32/100\n",
      "183/183 [==============================] - 1s 6ms/sample - loss: 0.1523 - accuracy: 0.9727\n",
      "Epoch 33/100\n",
      "183/183 [==============================] - 1s 6ms/sample - loss: 0.1528 - accuracy: 0.9563\n",
      "Epoch 34/100\n",
      "183/183 [==============================] - 1s 6ms/sample - loss: 0.1177 - accuracy: 0.9836\n",
      "Epoch 35/100\n",
      "183/183 [==============================] - 1s 6ms/sample - loss: 0.0813 - accuracy: 0.9945\n",
      "Epoch 36/100\n",
      "183/183 [==============================] - 1s 6ms/sample - loss: 0.0800 - accuracy: 0.9945\n",
      "Epoch 37/100\n",
      "183/183 [==============================] - 1s 6ms/sample - loss: 0.0756 - accuracy: 0.9891\n",
      "Epoch 38/100\n",
      "183/183 [==============================] - 1s 6ms/sample - loss: 0.0617 - accuracy: 0.9945\n",
      "Epoch 39/100\n",
      "183/183 [==============================] - 1s 6ms/sample - loss: 0.0540 - accuracy: 1.0000\n",
      "Epoch 40/100\n",
      "183/183 [==============================] - 1s 6ms/sample - loss: 0.0484 - accuracy: 0.9945\n",
      "Epoch 41/100\n",
      "183/183 [==============================] - 1s 6ms/sample - loss: 0.0497 - accuracy: 1.0000\n",
      "Epoch 42/100\n",
      "183/183 [==============================] - 1s 6ms/sample - loss: 0.0592 - accuracy: 0.9945\n",
      "Epoch 43/100\n",
      "183/183 [==============================] - 1s 6ms/sample - loss: 0.0519 - accuracy: 0.9945\n",
      "Epoch 44/100\n",
      "183/183 [==============================] - 1s 6ms/sample - loss: 0.0359 - accuracy: 1.0000\n",
      "Epoch 45/100\n",
      "183/183 [==============================] - 1s 6ms/sample - loss: 0.0488 - accuracy: 0.9891\n",
      "Epoch 46/100\n",
      "183/183 [==============================] - 1s 6ms/sample - loss: 0.0509 - accuracy: 0.9891\n",
      "Epoch 47/100\n",
      "183/183 [==============================] - 1s 5ms/sample - loss: 0.0395 - accuracy: 1.0000\n",
      "Epoch 48/100\n",
      "183/183 [==============================] - 1s 6ms/sample - loss: 0.0342 - accuracy: 1.0000\n",
      "Epoch 49/100\n",
      "183/183 [==============================] - 1s 6ms/sample - loss: 0.0471 - accuracy: 1.0000\n",
      "Epoch 50/100\n",
      "183/183 [==============================] - 1s 7ms/sample - loss: 0.0428 - accuracy: 1.0000\n",
      "Epoch 51/100\n",
      "183/183 [==============================] - 1s 7ms/sample - loss: 0.0271 - accuracy: 1.0000\n",
      "Epoch 52/100\n",
      "183/183 [==============================] - 1s 6ms/sample - loss: 0.0236 - accuracy: 1.0000\n",
      "Epoch 53/100\n",
      "183/183 [==============================] - 1s 7ms/sample - loss: 0.0326 - accuracy: 0.9945\n",
      "Epoch 54/100\n",
      "183/183 [==============================] - 1s 6ms/sample - loss: 0.0292 - accuracy: 1.0000\n",
      "Epoch 55/100\n",
      "183/183 [==============================] - 1s 7ms/sample - loss: 0.0209 - accuracy: 1.0000\n",
      "Epoch 56/100\n",
      "183/183 [==============================] - 1s 6ms/sample - loss: 0.0233 - accuracy: 1.0000\n",
      "Epoch 57/100\n",
      "183/183 [==============================] - 1s 6ms/sample - loss: 0.0233 - accuracy: 1.0000\n",
      "Epoch 58/100\n",
      "183/183 [==============================] - 1s 6ms/sample - loss: 0.0180 - accuracy: 1.0000\n",
      "Epoch 59/100\n",
      "183/183 [==============================] - 1s 6ms/sample - loss: 0.0251 - accuracy: 0.9945\n",
      "Epoch 60/100\n",
      "183/183 [==============================] - 1s 6ms/sample - loss: 0.0197 - accuracy: 1.0000\n",
      "Epoch 61/100\n",
      "183/183 [==============================] - 1s 6ms/sample - loss: 0.0155 - accuracy: 1.0000\n",
      "Epoch 62/100\n",
      "183/183 [==============================] - 1s 6ms/sample - loss: 0.0147 - accuracy: 1.0000\n",
      "Epoch 63/100\n",
      "183/183 [==============================] - 1s 6ms/sample - loss: 0.0163 - accuracy: 1.0000\n",
      "Epoch 64/100\n",
      "183/183 [==============================] - 1s 6ms/sample - loss: 0.0202 - accuracy: 0.9945\n",
      "Epoch 65/100\n",
      "183/183 [==============================] - 1s 5ms/sample - loss: 0.0143 - accuracy: 1.0000\n",
      "Epoch 66/100\n",
      "183/183 [==============================] - 1s 6ms/sample - loss: 0.0161 - accuracy: 1.0000\n",
      "Epoch 67/100\n",
      "183/183 [==============================] - 1s 6ms/sample - loss: 0.0165 - accuracy: 1.0000\n",
      "Epoch 68/100\n",
      "183/183 [==============================] - 1s 6ms/sample - loss: 0.0127 - accuracy: 1.0000\n",
      "Epoch 69/100\n",
      "183/183 [==============================] - 1s 5ms/sample - loss: 0.0175 - accuracy: 1.0000\n",
      "Epoch 70/100\n",
      "183/183 [==============================] - 1s 6ms/sample - loss: 0.0131 - accuracy: 1.0000\n",
      "Epoch 71/100\n",
      "183/183 [==============================] - 1s 6ms/sample - loss: 0.0157 - accuracy: 1.0000\n",
      "Epoch 72/100\n",
      "183/183 [==============================] - 1s 6ms/sample - loss: 0.0109 - accuracy: 1.0000\n",
      "Epoch 73/100\n",
      "183/183 [==============================] - 1s 6ms/sample - loss: 0.0101 - accuracy: 1.0000\n",
      "Epoch 74/100\n",
      "183/183 [==============================] - 1s 6ms/sample - loss: 0.0107 - accuracy: 1.0000\n",
      "Epoch 75/100\n",
      "183/183 [==============================] - 1s 6ms/sample - loss: 0.0100 - accuracy: 1.0000\n",
      "Epoch 76/100\n",
      "183/183 [==============================] - 1s 6ms/sample - loss: 0.0100 - accuracy: 1.0000\n",
      "Epoch 77/100\n",
      "183/183 [==============================] - 1s 6ms/sample - loss: 0.0112 - accuracy: 1.0000\n",
      "Epoch 78/100\n",
      "183/183 [==============================] - 1s 6ms/sample - loss: 0.0104 - accuracy: 1.0000\n",
      "Epoch 79/100\n",
      "183/183 [==============================] - 1s 6ms/sample - loss: 0.0108 - accuracy: 1.0000\n",
      "Epoch 80/100\n",
      "183/183 [==============================] - 1s 6ms/sample - loss: 0.0113 - accuracy: 1.0000\n",
      "Epoch 81/100\n",
      "183/183 [==============================] - 1s 6ms/sample - loss: 0.0115 - accuracy: 1.0000\n",
      "Epoch 82/100\n",
      "183/183 [==============================] - 1s 6ms/sample - loss: 0.0085 - accuracy: 1.0000\n",
      "Epoch 83/100\n",
      "183/183 [==============================] - 1s 6ms/sample - loss: 0.0131 - accuracy: 1.0000\n",
      "Epoch 84/100\n",
      "183/183 [==============================] - 1s 6ms/sample - loss: 0.0088 - accuracy: 1.0000\n",
      "Epoch 85/100\n",
      "183/183 [==============================] - 1s 6ms/sample - loss: 0.0151 - accuracy: 1.0000\n",
      "Epoch 86/100\n",
      "183/183 [==============================] - 1s 6ms/sample - loss: 0.0063 - accuracy: 1.0000\n",
      "Epoch 87/100\n",
      "183/183 [==============================] - 1s 6ms/sample - loss: 0.0139 - accuracy: 1.0000\n",
      "Epoch 88/100\n",
      "183/183 [==============================] - 1s 6ms/sample - loss: 0.0051 - accuracy: 1.0000\n",
      "Epoch 89/100\n",
      "183/183 [==============================] - 1s 7ms/sample - loss: 0.0087 - accuracy: 1.0000\n",
      "Epoch 90/100\n",
      "183/183 [==============================] - 1s 5ms/sample - loss: 0.0063 - accuracy: 1.0000\n",
      "Epoch 91/100\n",
      "183/183 [==============================] - 1s 6ms/sample - loss: 0.0079 - accuracy: 1.0000\n",
      "Epoch 92/100\n",
      "183/183 [==============================] - 1s 6ms/sample - loss: 0.0090 - accuracy: 1.0000\n",
      "Epoch 93/100\n",
      "183/183 [==============================] - 1s 5ms/sample - loss: 0.0090 - accuracy: 1.0000\n",
      "Epoch 94/100\n",
      "183/183 [==============================] - 1s 6ms/sample - loss: 0.0048 - accuracy: 1.0000\n",
      "Epoch 95/100\n",
      "183/183 [==============================] - 1s 5ms/sample - loss: 0.0077 - accuracy: 1.0000\n",
      "Epoch 96/100\n",
      "183/183 [==============================] - 1s 6ms/sample - loss: 0.0068 - accuracy: 1.0000\n",
      "Epoch 97/100\n",
      "183/183 [==============================] - 1s 6ms/sample - loss: 0.0054 - accuracy: 1.0000\n",
      "Epoch 98/100\n",
      "183/183 [==============================] - 1s 6ms/sample - loss: 0.0068 - accuracy: 1.0000\n",
      "Epoch 99/100\n",
      "183/183 [==============================] - 1s 6ms/sample - loss: 0.0060 - accuracy: 1.0000\n",
      "Epoch 100/100\n",
      "183/183 [==============================] - 1s 6ms/sample - loss: 0.0051 - accuracy: 1.0000\n"
     ]
    },
    {
     "data": {
      "text/plain": [
       "<keras.src.callbacks.History at 0x15a24e99310>"
      ]
     },
     "execution_count": 183,
     "metadata": {},
     "output_type": "execute_result"
    }
   ],
   "source": [
    "model.fit(Xtrain, Ytrain, epochs = 100)"
   ]
  },
  {
   "cell_type": "code",
   "execution_count": 184,
   "id": "f722fc06",
   "metadata": {},
   "outputs": [
    {
     "name": "stdout",
     "output_type": "stream",
     "text": [
      "Model: \"sequential_9\"\n",
      "_________________________________________________________________\n",
      " Layer (type)                Output Shape              Param #   \n",
      "=================================================================\n",
      " embedding_9 (Embedding)     (None, 52, 300)           93900     \n",
      "                                                                 \n",
      " bidirectional_2 (Bidirecti  (None, 52, 128)           140544    \n",
      " onal)                                                           \n",
      "                                                                 \n",
      " dropout_2 (Dropout)         (None, 52, 128)           0         \n",
      "                                                                 \n",
      " bidirectional_3 (Bidirecti  (None, 64)                31104     \n",
      " onal)                                                           \n",
      "                                                                 \n",
      " dropout_3 (Dropout)         (None, 64)                0         \n",
      "                                                                 \n",
      " dense_9 (Dense)             (None, 5)                 325       \n",
      "                                                                 \n",
      "=================================================================\n",
      "Total params: 265873 (1.01 MB)\n",
      "Trainable params: 171973 (671.77 KB)\n",
      "Non-trainable params: 93900 (366.80 KB)\n",
      "_________________________________________________________________\n"
     ]
    }
   ],
   "source": [
    "model.summary()"
   ]
  },
  {
   "cell_type": "code",
   "execution_count": 185,
   "id": "convertible-spider",
   "metadata": {},
   "outputs": [
    {
     "name": "stderr",
     "output_type": "stream",
     "text": [
      "c:\\Users\\RIYA\\AppData\\Local\\Programs\\Python\\Python311\\Lib\\site-packages\\keras\\src\\engine\\training_v1.py:2359: UserWarning: `Model.state_updates` will be removed in a future version. This property should not be used in TensorFlow 2.0, as `updates` are applied automatically.\n",
      "  updates=self.state_updates,\n"
     ]
    },
    {
     "name": "stdout",
     "output_type": "stream",
     "text": [
      "I feel good 😃\n",
      "I feel very bad 😞\n",
      "lets eat dinner 🍽️\n"
     ]
    }
   ],
   "source": [
    "test_sentences= [\"I feel good\", \"I feel very bad\", \"lets eat dinner\"]\n",
    "\n",
    "test_seq = tokenizer.texts_to_sequences(test_sentences)\n",
    "Xtest = pad_sequences(test_seq, maxlen = maxlen, padding = 'post', truncating = 'post')\n",
    "\n",
    "y_pred = model.predict(Xtest)\n",
    "y_pred = np.argmax(y_pred, axis = 1)\n",
    "\n",
    "for i in range(len(test_sentences)):\n",
    "    print(test_sentences[i], label_to_emoji(y_pred[i]))"
   ]
  }
 ],
 "metadata": {
  "kernelspec": {
   "display_name": "Python 3",
   "language": "python",
   "name": "python3"
  },
  "language_info": {
   "codemirror_mode": {
    "name": "ipython",
    "version": 3
   },
   "file_extension": ".py",
   "mimetype": "text/x-python",
   "name": "python",
   "nbconvert_exporter": "python",
   "pygments_lexer": "ipython3",
   "version": "3.11.3"
  }
 },
 "nbformat": 4,
 "nbformat_minor": 5
}
